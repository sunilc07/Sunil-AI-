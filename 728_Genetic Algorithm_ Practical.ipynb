{
 "cells": [
  {
   "cell_type": "code",
   "execution_count": 2,
   "id": "fa78edc5",
   "metadata": {},
   "outputs": [
    {
     "name": "stdout",
     "output_type": "stream",
     "text": [
      "Collecting deap\n",
      "  Downloading deap-1.3.3-cp37-cp37m-win_amd64.whl (108 kB)\n",
      "     -------------------------------------- 109.0/109.0 kB 2.1 MB/s eta 0:00:00\n",
      "Requirement already satisfied: numpy in c:\\anaconda3\\lib\\site-packages (from deap) (1.21.4)\n",
      "Installing collected packages: deap\n",
      "Successfully installed deap-1.3.3\n",
      "\n",
      "[notice] A new release of pip available: 22.1.2 -> 22.2.2\n",
      "[notice] To update, run: python.exe -m pip install --upgrade pip\n"
     ]
    },
    {
     "name": "stderr",
     "output_type": "stream",
     "text": [
      "WARNING: Ignoring invalid distribution -etworkx (c:\\anaconda3\\lib\\site-packages)\n",
      "WARNING: Ignoring invalid distribution -cipy (c:\\anaconda3\\lib\\site-packages)\n",
      "WARNING: Ignoring invalid distribution -andas (c:\\anaconda3\\lib\\site-packages)\n",
      "WARNING: Ignoring invalid distribution -etworkx (c:\\anaconda3\\lib\\site-packages)\n",
      "WARNING: Ignoring invalid distribution -cipy (c:\\anaconda3\\lib\\site-packages)\n",
      "WARNING: Ignoring invalid distribution -andas (c:\\anaconda3\\lib\\site-packages)\n",
      "WARNING: Ignoring invalid distribution -etworkx (c:\\anaconda3\\lib\\site-packages)\n",
      "WARNING: Ignoring invalid distribution -cipy (c:\\anaconda3\\lib\\site-packages)\n",
      "WARNING: Ignoring invalid distribution -andas (c:\\anaconda3\\lib\\site-packages)\n",
      "WARNING: Ignoring invalid distribution -etworkx (c:\\anaconda3\\lib\\site-packages)\n",
      "WARNING: Ignoring invalid distribution -cipy (c:\\anaconda3\\lib\\site-packages)\n",
      "WARNING: Ignoring invalid distribution -andas (c:\\anaconda3\\lib\\site-packages)\n",
      "WARNING: Ignoring invalid distribution -etworkx (c:\\anaconda3\\lib\\site-packages)\n",
      "WARNING: Ignoring invalid distribution -cipy (c:\\anaconda3\\lib\\site-packages)\n",
      "WARNING: Ignoring invalid distribution -andas (c:\\anaconda3\\lib\\site-packages)\n",
      "WARNING: Ignoring invalid distribution -etworkx (c:\\anaconda3\\lib\\site-packages)\n",
      "WARNING: Ignoring invalid distribution -cipy (c:\\anaconda3\\lib\\site-packages)\n",
      "WARNING: Ignoring invalid distribution -andas (c:\\anaconda3\\lib\\site-packages)\n",
      "WARNING: Ignoring invalid distribution -etworkx (c:\\anaconda3\\lib\\site-packages)\n",
      "WARNING: Ignoring invalid distribution -cipy (c:\\anaconda3\\lib\\site-packages)\n",
      "WARNING: Ignoring invalid distribution -andas (c:\\anaconda3\\lib\\site-packages)\n"
     ]
    }
   ],
   "source": [
    "!pip install deap"
   ]
  },
  {
   "cell_type": "code",
   "execution_count": 2,
   "id": "b891a540",
   "metadata": {},
   "outputs": [
    {
     "name": "stdout",
     "output_type": "stream",
     "text": [
      "Individual [ 0 ]: 10101010 \tFitness: 170\n",
      "Individual [ 1 ]: 11110000 \tFitness: 240\n",
      "Individual [ 2 ]: 01010101 \tFitness: 85\n",
      "Individual [ 3 ]: 00001111 \tFitness: 15\n",
      "Individual [ 4 ]: 10111011 \tFitness: 187\n",
      "Individual [ 5 ]: 01000100 \tFitness: 68\n",
      "Individual [ 6 ]: 11100111 \tFitness: 231\n",
      "Individual [ 7 ]: 00000000 \tFitness: 0\n",
      "\n",
      "Please Enter Choice(or to Quit type exit)\n",
      "Crossover or Mutation:crossover\n",
      "Selection Individuals\n",
      "Parent1:  01010101 \tFitness: 85 \n",
      "Parents 2: 11100111 \tFitness: 231 \n",
      "\n",
      "Child1:  01100111 \tFitness: 103\n",
      "Child2:  11010101 \tFitness: 213\n",
      "\n",
      "Child 11010101 Survives to next generation\n",
      "\n",
      "Please Enter Choice(or to Quit type exit)\n",
      "Crossover or Mutation:mutation\n",
      "Selected Individual: 00001111 t\\Fitness: 15\n",
      "\n",
      "Mutated Child:  00001111 \tFitness: 15 \n",
      "\n",
      "Child has not evolved\n",
      "\n",
      "Please Enter Choice(or to Quit type exit)\n",
      "Crossover or Mutation:crossover\n",
      "Selection Individuals\n",
      "Parent1:  10101010 \tFitness: 170 \n",
      "Parents 2: 10111011 \tFitness: 187 \n",
      "\n",
      "Child1:  10101011 \tFitness: 171\n",
      "Child2:  10111010 \tFitness: 186\n",
      "\n",
      "Child 10111010 Survives to next generation\n",
      "\n",
      "Please Enter Choice(or to Quit type exit)\n",
      "Crossover or Mutation:exit\n"
     ]
    }
   ],
   "source": [
    "from deap import tools\n",
    "import random\n",
    "population=[\"10101010\",\"11110000\",\"01010101\",\"00001111\",\"10111011\",\"01000100\",\"11100111\",\"00000000\"]\n",
    "binary=[]\n",
    "for i in range(len(population)):\n",
    "    binary.append(int(population[i],2))\n",
    "\n",
    "for i in range(len(population)):\n",
    "    print(\"Individual [\",i,\"]:\",population[i],\"\\tFitness:\",binary[i])\n",
    "\n",
    "def crossoverEP():\n",
    "    parents=tools.selection.selRandom(population,2)\n",
    "    print(\"Selection Individuals\\nParent1: \",parents[0],\"\\tFitness:\",binary[population.index(parents[0])],\"\\nParents 2:\",parents[1],\"\\tFitness:\",binary[population.index(parents[1])],\"\\n\")\n",
    "    children=list(tools.crossover.cxOnePoint(list(parents[0]),list(parents[1])))\n",
    "    f_child1=int(\"\".join(children[0]),2)\n",
    "    f_child2=int(\"\".join(children[1]),2)\n",
    "    print(\"Child1: \",\"\".join(children[0]),\"\\tFitness:\",f_child1)\n",
    "    print(\"Child2: \",\"\".join(children[1]),\"\\tFitness:\",f_child2)\n",
    "    if(f_child1<f_child2):\n",
    "        print(\"\\nChild\",\"\".join(children[1]),\"Survives to next generation\")\n",
    "    else:\n",
    "        print(\"\\nChild\",\"\".join(children[0]),\"Survives to next generation\")\n",
    "def mutationEP():\n",
    "    parents=tools.selection.selRandom(population,1)\n",
    "    print(\"Selected Individual:\",parents[0],\"t\\Fitness:\",binary[population.index(parents[0])])\n",
    "    child_list=list(parents[0])\n",
    "    mutate_bit=random.choice(range(1,8))\n",
    "    if child_list[mutate_bit]=='1':\n",
    "        child_list[mutate_bit]=='0'\n",
    "    else:\n",
    "        child_list[mutate_bit]='1'\n",
    "    child=int(\"\".join(child_list),2)\n",
    "    print(\"\\nMutated Child: \",\"\".join(child_list),\"\\tFitness:\",child,\"\\n\")\n",
    "    if(child<=binary[population.index(parents[0])]):\n",
    "        print(\"Child has not evolved\")\n",
    "    if (child>binary[population.index(parents[0])]):\n",
    "        print(\"Child has evolved\")\n",
    "    \n",
    "while True:\n",
    "    evolution=input(\"\\nPlease Enter Choice(or to Quit type exit)\\nCrossover or Mutation:\").lower()\n",
    "    if evolution==\"crossover\":\n",
    "        crossoverEP()\n",
    "    elif evolution==\"mutation\":\n",
    "        mutationEP()\n",
    "    elif evolution==\"exit\":\n",
    "        break\n",
    "    else:\n",
    "        print(\"Please enter a valid choice\")    \n",
    "    "
   ]
  },
  {
   "cell_type": "code",
   "execution_count": null,
   "id": "470b652d",
   "metadata": {},
   "outputs": [],
   "source": []
  }
 ],
 "metadata": {
  "kernelspec": {
   "display_name": "Python 3 (ipykernel)",
   "language": "python",
   "name": "python3"
  },
  "language_info": {
   "codemirror_mode": {
    "name": "ipython",
    "version": 3
   },
   "file_extension": ".py",
   "mimetype": "text/x-python",
   "name": "python",
   "nbconvert_exporter": "python",
   "pygments_lexer": "ipython3",
   "version": "3.7.11"
  }
 },
 "nbformat": 4,
 "nbformat_minor": 5
}
