{
 "cells": [
  {
   "cell_type": "code",
   "execution_count": 1,
   "id": "af9a1452",
   "metadata": {},
   "outputs": [
    {
     "name": "stdout",
     "output_type": "stream",
     "text": [
      "DFS\n",
      "2013"
     ]
    }
   ],
   "source": [
    "from collections import defaultdict\n",
    "class Graph:\n",
    "    def __init__(self):\n",
    "        self.graph = defaultdict(list)\n",
    "    def addEdge(self,u,v):\n",
    "        self.graph[u].append(v)\n",
    "    def DFSUtil(self, v,visited):\n",
    "        visited[v]=True\n",
    "        print(v, end=\"\")\n",
    "        for i in self.graph[v]:\n",
    "            if visited[i] == False:\n",
    "                self.DFSUtil(i, visited)\n",
    "    def DFS(self,v):\n",
    "        visited = [False]*(len(self.graph))\n",
    "        self.DFSUtil(v,visited)\n",
    "g=Graph()\n",
    "g.addEdge(0,1)\n",
    "g.addEdge(0,2)\n",
    "g.addEdge(1,2)\n",
    "g.addEdge(2,0)\n",
    "g.addEdge(2,3)\n",
    "g.addEdge(3,3)\n",
    "print(\"DFS\")\n",
    "g.DFS(2)\n",
    "\n"
   ]
  },
  {
   "cell_type": "code",
   "execution_count": null,
   "id": "3ba62c91",
   "metadata": {},
   "outputs": [],
   "source": []
  }
 ],
 "metadata": {
  "kernelspec": {
   "display_name": "Python 3 (ipykernel)",
   "language": "python",
   "name": "python3"
  },
  "language_info": {
   "codemirror_mode": {
    "name": "ipython",
    "version": 3
   },
   "file_extension": ".py",
   "mimetype": "text/x-python",
   "name": "python",
   "nbconvert_exporter": "python",
   "pygments_lexer": "ipython3",
   "version": "3.9.12"
  }
 },
 "nbformat": 4,
 "nbformat_minor": 5
}
